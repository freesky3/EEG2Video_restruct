{
 "cells": [
  {
   "cell_type": "code",
   "execution_count": 46,
   "id": "bd8c91aa",
   "metadata": {},
   "outputs": [
    {
     "name": "stdout",
     "output_type": "stream",
     "text": [
      "(27500,)\n",
      "(27500,)\n"
     ]
    }
   ],
   "source": [
    "file1 = r\"D:\\sjtu文件夹\\PLUS课程文件夹\\PRP\\DATA\\EEG-VP\\imaging_structured_data.npy\"\n",
    "file2 = r\"D:\\sjtu文件夹\\PLUS课程文件夹\\PRP\\DATA\\EEG-VP\\watching_structured_data.npy\"\n",
    "\n",
    "import numpy as np\n",
    "data1 = np.load(file1)\n",
    "data2 = np.load(file2)\n",
    "\n",
    "print(data1.shape)\n",
    "print(data2.shape)"
   ]
  },
  {
   "cell_type": "code",
   "execution_count": 50,
   "id": "70e0b3b8",
   "metadata": {},
   "outputs": [
    {
     "name": "stdout",
     "output_type": "stream",
     "text": [
      "[17. 11. 11.  7. 17.  4. 10. 20. 13. 17.]\n"
     ]
    }
   ],
   "source": [
    "print(data1[0:10]['label'])"
   ]
  },
  {
   "cell_type": "code",
   "execution_count": 51,
   "id": "beb8ee1e",
   "metadata": {},
   "outputs": [
    {
     "name": "stdout",
     "output_type": "stream",
     "text": [
      "[[17. 11. 11.  7. 17.  4. 10. 20. 13. 17.  8. 10. 19. 13.  3. 13.  6.  6.\n",
      "  10. 16.  6.  1. 11. 19.  7.  5. 16.  4.  9. 20.  8. 18. 12.  8. 11.  6.\n",
      "   2. 19.  1.  9.  6. 18.  7. 12.  9.  7. 15. 19. 17.  8.]\n",
      " [13. 18.  2.  4. 16. 12. 15. 12. 17.  9. 17.  1.  5.  7. 20. 19.  9.  5.\n",
      "   5. 19. 11. 15. 19. 11. 20. 15. 16. 16. 17.  1. 18. 13. 16.  1.  2. 15.\n",
      "  18. 20.  7. 20. 18. 14. 18.  1. 11.  2. 14.  9.  4.  2.]\n",
      " [ 1.  3.  1.  9.  8.  8.  1.  1.  7. 17.  6.  8.  9. 13.  1. 13. 20. 11.\n",
      "  12.  5. 17. 10.  3. 13.  6. 10.  8.  6.  7.  6. 14. 20. 18. 12.  8.  4.\n",
      "  13. 17.  5. 12.  4. 10. 16. 19. 11. 17. 19. 12.  8. 12.]\n",
      " [18.  1.  7.  8. 11. 19. 13. 16.  5. 11.  2.  3.  9.  4. 11.  3.  3. 14.\n",
      "   2.  5.  7.  2.  9. 15. 14. 20. 17.  5.  7.  6.  3. 15.  9. 14.  2.  2.\n",
      "  17.  2. 13.  4.  3. 15.  2. 14. 10.  2.  9. 18.  6. 20.]\n",
      " [ 5. 17. 16. 13.  7. 16. 13. 12.  9. 10.  4.  9. 20. 14.  2.  5. 16. 16.\n",
      "  15.  1.  5. 20. 12. 11. 15. 15. 10. 15.  1.  6.  3. 16. 14. 11. 10.  6.\n",
      "  14. 11. 18. 17.  5.  5. 10. 10.  4. 12.  1. 14.  8.  3.]]\n"
     ]
    }
   ],
   "source": [
    "label = np.load(r\"D:\\sjtu文件夹\\PLUS课程文件夹\\PRP\\restruct\\data_json\\GT_label.npy\")\n",
    "print(label)"
   ]
  }
 ],
 "metadata": {
  "kernelspec": {
   "display_name": "eeg_test",
   "language": "python",
   "name": "python3"
  },
  "language_info": {
   "codemirror_mode": {
    "name": "ipython",
    "version": 3
   },
   "file_extension": ".py",
   "mimetype": "text/x-python",
   "name": "python",
   "nbconvert_exporter": "python",
   "pygments_lexer": "ipython3",
   "version": "3.11.13"
  }
 },
 "nbformat": 4,
 "nbformat_minor": 5
}
